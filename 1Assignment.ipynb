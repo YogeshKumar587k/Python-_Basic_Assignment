{
 "cells": [
  {
   "cell_type": "markdown",
   "id": "e2e32558",
   "metadata": {},
   "source": [
    "1. In the below elements which of them are values or an expression? eg:- values can be integer or string and expressions will be mathematical operators.\n",
    "\n",
    "*    -- expression\n",
    "-- 'hello' -- value\n",
    "-87.8 -- value\n",
    "'- -- expression\n",
    "/ -- expression\n",
    "+\t--expression \n",
    "6 -- value"
   ]
  },
  {
   "cell_type": "markdown",
   "id": "0d72e769",
   "metadata": {},
   "source": [
    "\n",
    "2. What is the difference between string and variable?\n",
    "String is a set of characters or number within codes,\n",
    "Variable is used to store any kind of data types.\n"
   ]
  },
  {
   "cell_type": "markdown",
   "id": "5c8b7332",
   "metadata": {},
   "source": [
    "3. Describe three different data types.\n",
    "Boolean, String, Integer, float, date\n"
   ]
  },
  {
   "cell_type": "markdown",
   "id": "0d424088",
   "metadata": {},
   "source": [
    "4. What is an expression made up of? What do all expressions do?\n",
    "Expression is made up of like sum , count , min or max to calculate.\n"
   ]
  },
  {
   "cell_type": "markdown",
   "id": "3febb8d6",
   "metadata": {},
   "source": [
    "5. This assignment statements, like spam = 10. What is the difference between an expression and a statement?\n",
    "Expression is assigning a value to spam , statement is spam holds a value 10\n"
   ]
  },
  {
   "cell_type": "markdown",
   "id": "efcd1f62",
   "metadata": {},
   "source": [
    "6. After running the following code, what does the variable bacon contain?\n",
    "bacon = 22\n",
    "bacon + 1\n",
    "bacon will be 23\n"
   ]
  },
  {
   "cell_type": "markdown",
   "id": "39c1a806",
   "metadata": {},
   "source": [
    "7. What should the values of the following two terms be?\n",
    "'spam' + 'spamspam'\n",
    "spamspamspam\n",
    "'spam' * 3\n",
    "spamspamspam\n"
   ]
  },
  {
   "cell_type": "markdown",
   "id": "7303a0a7",
   "metadata": {},
   "source": [
    "8. Why is eggs a valid variable name while 100 is invalid?\n",
    "Variable should start with letter or underscore not by the number.\n"
   ]
  },
  {
   "cell_type": "markdown",
   "id": "d0547926",
   "metadata": {},
   "source": [
    "9. What three functions can be used to get the integer, floating-point number, or string version of a value?\n",
    "Int,float,str\n"
   ]
  },
  {
   "cell_type": "markdown",
   "id": "913c5231",
   "metadata": {},
   "source": [
    "10. Why does this expression cause an error? How can you fix it?\n",
    "'I have eaten ' + 99 + ' burritos.'\n",
    "You cannot concatenate int value with string, so you need to convert int to string."
   ]
  },
  {
   "cell_type": "code",
   "execution_count": null,
   "id": "0ae1487f",
   "metadata": {},
   "outputs": [],
   "source": []
  }
 ],
 "metadata": {
  "kernelspec": {
   "display_name": "Python 3 (ipykernel)",
   "language": "python",
   "name": "python3"
  },
  "language_info": {
   "codemirror_mode": {
    "name": "ipython",
    "version": 3
   },
   "file_extension": ".py",
   "mimetype": "text/x-python",
   "name": "python",
   "nbconvert_exporter": "python",
   "pygments_lexer": "ipython3",
   "version": "3.9.7"
  }
 },
 "nbformat": 4,
 "nbformat_minor": 5
}
