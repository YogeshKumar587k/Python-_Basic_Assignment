{
 "cells": [
  {
   "cell_type": "code",
   "execution_count": null,
   "id": "0138b456",
   "metadata": {},
   "outputs": [],
   "source": [
    "1.What are the two values of the Boolean data type? How do you write them?\n",
    "A= True and B= False\n"
   ]
  },
  {
   "cell_type": "code",
   "execution_count": null,
   "id": "5d96d78d",
   "metadata": {},
   "outputs": [],
   "source": [
    "2. What are the three different types of Boolean operators?\n",
    "And or and Not\n"
   ]
  },
  {
   "cell_type": "code",
   "execution_count": null,
   "id": "9e4d6f57",
   "metadata": {},
   "outputs": [],
   "source": [
    "3. Make a list of each Boolean operators truth tables (i.e. every possible combination of Boolean values for the operator and what it evaluate).\n",
    "A=[True,False,And,or,not]\n"
   ]
  },
  {
   "cell_type": "code",
   "execution_count": null,
   "id": "9b085c44",
   "metadata": {},
   "outputs": [],
   "source": [
    "4. What are the values of the following expressions?\n",
    "(5 > 4) and (3 == 5)\n",
    "False\n",
    "not (5 > 4)\n",
    "False\n",
    "(5 > 4) or (3 == 5)\n",
    "True\n",
    "not ((5 > 4) or (3 == 5))\n",
    "False\n",
    "(True and True) and (True == False)\n",
    "False\n",
    "(not False) or (not True)\n",
    "True\n"
   ]
  },
  {
   "cell_type": "code",
   "execution_count": null,
   "id": "a7798e1d",
   "metadata": {},
   "outputs": [],
   "source": [
    "5. What are the six comparison operators?\n",
    "<,<=,>,>=,==,!=\n"
   ]
  },
  {
   "cell_type": "code",
   "execution_count": null,
   "id": "6aef5121",
   "metadata": {},
   "outputs": [],
   "source": [
    "6. How do you tell the difference between the equal to and assignment operators? Describe a condition and when you would use one.\n",
    "Suppose if I want to assign a= 10 a hold the value 10 and if I am comparing a has the value 10 or not using this expression a==10\n"
   ]
  },
  {
   "cell_type": "code",
   "execution_count": null,
   "id": "fe81a4c7",
   "metadata": {},
   "outputs": [],
   "source": [
    "7. Identify the three blocks in this code:\n",
    "spam = 0\n",
    "if spam == 10:\n",
    "print('eggs')\n",
    "if spam > 5:\n",
    "print('bacon')\n",
    "else:\n",
    "print('ham')\n",
    "print('spam')\n",
    "print('spam')\n",
    "ham\n",
    "spam\n",
    "spam\n"
   ]
  },
  {
   "cell_type": "markdown",
   "id": "b9d0350d",
   "metadata": {},
   "source": [
    "8. Write code that prints Hello if 1 is stored in spam, prints Howdy if 2 is stored in spam, and prints Greetings! if anything else is stored in spam."
   ]
  },
  {
   "cell_type": "code",
   "execution_count": 1,
   "id": "310257ae",
   "metadata": {},
   "outputs": [
    {
     "name": "stdout",
     "output_type": "stream",
     "text": [
      "Hello\n"
     ]
    }
   ],
   "source": [
    "spam=1\n",
    "if spam==1:\n",
    "    print('Hello')\n",
    "elif spam==2:\n",
    "    print('Howdy')\n",
    "else:\n",
    "    print(spam)\n"
   ]
  },
  {
   "cell_type": "code",
   "execution_count": null,
   "id": "437172d2",
   "metadata": {},
   "outputs": [],
   "source": [
    "9.If your programme is stuck in an endless loop, what keys you’ll press?\n",
    "Ctr + C\n"
   ]
  },
  {
   "cell_type": "code",
   "execution_count": null,
   "id": "5cf465f9",
   "metadata": {},
   "outputs": [],
   "source": [
    "10. How can you tell the difference between break and continue?\n",
    "In a loop if we use break function it will stop the loop while in case continue it skip that occurrence and then it will calculate \n"
   ]
  },
  {
   "cell_type": "code",
   "execution_count": null,
   "id": "1a369373",
   "metadata": {},
   "outputs": [],
   "source": [
    "11. In a for loop, what is the difference between range(10), range(0, 10), and range(0, 10, 1)?\n",
    "Range(10)-> starts from 0 to 9\n",
    "Range(0,10) -> starts from 0 to 9\n",
    "range(0, 10, 1)  it will increase the step size by 1\n"
   ]
  },
  {
   "cell_type": "markdown",
   "id": "13d399df",
   "metadata": {},
   "source": [
    "12. Write a short program that prints the numbers 1 to 10 using a for loop. Then write an equivalent program that prints the numbers 1 to 10 using a while loop."
   ]
  },
  {
   "cell_type": "code",
   "execution_count": 2,
   "id": "2aba952e",
   "metadata": {},
   "outputs": [
    {
     "name": "stdout",
     "output_type": "stream",
     "text": [
      "1\n",
      "2\n",
      "3\n",
      "4\n",
      "5\n",
      "6\n",
      "7\n",
      "8\n",
      "9\n",
      "10\n"
     ]
    }
   ],
   "source": [
    "for i in range(1,11):\n",
    "    print(i)\n"
   ]
  },
  {
   "cell_type": "code",
   "execution_count": 3,
   "id": "54f7eb12",
   "metadata": {},
   "outputs": [
    {
     "name": "stdout",
     "output_type": "stream",
     "text": [
      "1\n",
      "2\n",
      "3\n",
      "4\n",
      "5\n",
      "6\n",
      "7\n",
      "8\n",
      "9\n",
      "10\n"
     ]
    }
   ],
   "source": [
    "i=1\n",
    "while i < 11:\n",
    "    print(i)\n",
    "    i = i +1\n"
   ]
  },
  {
   "cell_type": "code",
   "execution_count": null,
   "id": "d1f8c289",
   "metadata": {},
   "outputs": [],
   "source": [
    "13. If you had a function named bacon() inside a module named spam, how would you call it after importing spam?\n",
    "from bacon import spam\n"
   ]
  },
  {
   "cell_type": "code",
   "execution_count": null,
   "id": "74d75713",
   "metadata": {},
   "outputs": [],
   "source": []
  },
  {
   "cell_type": "code",
   "execution_count": null,
   "id": "3159ab85",
   "metadata": {},
   "outputs": [],
   "source": []
  },
  {
   "cell_type": "code",
   "execution_count": null,
   "id": "2b192d7d",
   "metadata": {},
   "outputs": [],
   "source": []
  },
  {
   "cell_type": "code",
   "execution_count": null,
   "id": "2f51efcf",
   "metadata": {},
   "outputs": [],
   "source": []
  },
  {
   "cell_type": "code",
   "execution_count": null,
   "id": "3837fb42",
   "metadata": {},
   "outputs": [],
   "source": []
  }
 ],
 "metadata": {
  "kernelspec": {
   "display_name": "Python 3 (ipykernel)",
   "language": "python",
   "name": "python3"
  },
  "language_info": {
   "codemirror_mode": {
    "name": "ipython",
    "version": 3
   },
   "file_extension": ".py",
   "mimetype": "text/x-python",
   "name": "python",
   "nbconvert_exporter": "python",
   "pygments_lexer": "ipython3",
   "version": "3.9.7"
  }
 },
 "nbformat": 4,
 "nbformat_minor": 5
}
