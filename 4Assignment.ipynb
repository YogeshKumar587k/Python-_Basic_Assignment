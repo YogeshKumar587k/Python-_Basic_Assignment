{
 "cells": [
  {
   "cell_type": "code",
   "execution_count": null,
   "id": "1e975e1f",
   "metadata": {},
   "outputs": [],
   "source": [
    "1. What exactly is []?\n",
    "list brackets"
   ]
  },
  {
   "cell_type": "markdown",
   "id": "fa091984",
   "metadata": {},
   "source": [
    "2. In a list of values stored in a variable called spam, how would you assign the value 'hello' as the third value? (Assume [2, 4, 6, 8, 10] are in spam.)"
   ]
  },
  {
   "cell_type": "code",
   "execution_count": 1,
   "id": "91db7ed6",
   "metadata": {},
   "outputs": [
    {
     "data": {
      "text/plain": [
       "[2, 4, 6, 'hello', 10]"
      ]
     },
     "execution_count": 1,
     "metadata": {},
     "output_type": "execute_result"
    }
   ],
   "source": [
    "spam=[2, 4, 6, 8, 10]\n",
    "spam[3]=\"hello\"\n",
    "spam"
   ]
  },
  {
   "cell_type": "markdown",
   "id": "4ad4d718",
   "metadata": {},
   "source": [
    "Let's pretend the spam includes the list ['a', 'b', 'c', 'd'] for the next three queries."
   ]
  },
  {
   "cell_type": "code",
   "execution_count": 2,
   "id": "9bde66b2",
   "metadata": {},
   "outputs": [],
   "source": [
    "spam=['a', 'b', 'c', 'd']"
   ]
  },
  {
   "cell_type": "code",
   "execution_count": null,
   "id": "3633d8c3",
   "metadata": {},
   "outputs": [],
   "source": [
    "3. What is the value of spam[int(int('3' * 2) / 11)]?\n",
    "d"
   ]
  },
  {
   "cell_type": "code",
   "execution_count": null,
   "id": "2c4cfc9c",
   "metadata": {},
   "outputs": [],
   "source": [
    "4. What is the value of spam[-1]?\n",
    "d"
   ]
  },
  {
   "cell_type": "code",
   "execution_count": null,
   "id": "f643096b",
   "metadata": {},
   "outputs": [],
   "source": [
    "5. What is the value of spam[:2]?\n",
    "cd"
   ]
  },
  {
   "cell_type": "markdown",
   "id": "ad86d557",
   "metadata": {},
   "source": [
    "Let's pretend bacon has the list [3.14, 'cat,' 11, 'cat,' True] for the next three questions."
   ]
  },
  {
   "cell_type": "code",
   "execution_count": null,
   "id": "dad683e9",
   "metadata": {},
   "outputs": [],
   "source": [
    "6. What is the value of bacon.index('cat')?\n",
    "1"
   ]
  },
  {
   "cell_type": "code",
   "execution_count": null,
   "id": "48f252ab",
   "metadata": {},
   "outputs": [],
   "source": [
    "7. How does bacon.append(99) change the look of the list value in bacon\n",
    "[3.14, 'cat,' 11, 'cat,' True,99]"
   ]
  },
  {
   "cell_type": "code",
   "execution_count": null,
   "id": "3f8db180",
   "metadata": {},
   "outputs": [],
   "source": [
    "8. How does bacon.remove('cat') change the look of the list in bacon?\n",
    "[3.14, , 11,  True,99]"
   ]
  },
  {
   "cell_type": "code",
   "execution_count": null,
   "id": "a39bd0d5",
   "metadata": {},
   "outputs": [],
   "source": [
    "9. What are the list concatenation and list replication operators?\n",
    "+ and *"
   ]
  },
  {
   "cell_type": "code",
   "execution_count": null,
   "id": "283aec2d",
   "metadata": {},
   "outputs": [],
   "source": [
    "10. What is difference between the list methods append() and insert()?\n",
    "append add the data into list and insert we can look the index number and replace the new data "
   ]
  },
  {
   "cell_type": "code",
   "execution_count": 8,
   "id": "1cfe727b",
   "metadata": {},
   "outputs": [],
   "source": [
    "11. What are the two methods for removing items from a list?\n",
    "remove and pop"
   ]
  },
  {
   "cell_type": "code",
   "execution_count": 9,
   "id": "4984044f",
   "metadata": {},
   "outputs": [],
   "source": [
    "12. Describe how list values and string values are identical.\n",
    " both are sequences order"
   ]
  },
  {
   "cell_type": "code",
   "execution_count": 12,
   "id": "b1d4ca00",
   "metadata": {},
   "outputs": [],
   "source": [
    "13. Whats the difference between tuples and lists?\n",
    "tuples we cannot the value but list we can able to alter the value and change the value"
   ]
  },
  {
   "cell_type": "code",
   "execution_count": null,
   "id": "f0a597f2",
   "metadata": {},
   "outputs": [],
   "source": [
    "14. How do you type a tuple value that only contains the integer 42?\n",
    "a=(42)"
   ]
  },
  {
   "cell_type": "code",
   "execution_count": null,
   "id": "dabdf505",
   "metadata": {},
   "outputs": [],
   "source": [
    "15. How do you get a list values tuple form? How do you get a tuple values list form?\n",
    "l=[1,2,3,4,5,6,7]\n",
    "q=(1,2,3,4,5,6,7)\n",
    "tuple(l)\n",
    "list(q)"
   ]
  },
  {
   "cell_type": "code",
   "execution_count": null,
   "id": "3d65bb7f",
   "metadata": {},
   "outputs": [],
   "source": [
    "16. Variables that \"contain\" list values are not necessarily lists themselves. Instead, what do they contain?\n",
    "string value if you dont specify the [] brackets"
   ]
  },
  {
   "cell_type": "code",
   "execution_count": null,
   "id": "50146b82",
   "metadata": {},
   "outputs": [],
   "source": [
    "17. How do you distinguish between copy.copy() and copy.deepcopy()?"
   ]
  }
 ],
 "metadata": {
  "kernelspec": {
   "display_name": "Python 3 (ipykernel)",
   "language": "python",
   "name": "python3"
  },
  "language_info": {
   "codemirror_mode": {
    "name": "ipython",
    "version": 3
   },
   "file_extension": ".py",
   "mimetype": "text/x-python",
   "name": "python",
   "nbconvert_exporter": "python",
   "pygments_lexer": "ipython3",
   "version": "3.9.7"
  }
 },
 "nbformat": 4,
 "nbformat_minor": 5
}
