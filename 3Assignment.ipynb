{
 "cells": [
  {
   "cell_type": "code",
   "execution_count": null,
   "id": "e9a90ddb",
   "metadata": {},
   "outputs": [],
   "source": [
    "1. Why are functions advantageous to have in your programs?\n",
    "we can use the functions when ever we want to calculate 100 times , we create a function and pass the values, \n",
    "so this will increase the code effeciency "
   ]
  },
  {
   "cell_type": "code",
   "execution_count": null,
   "id": "6207286e",
   "metadata": {},
   "outputs": [],
   "source": [
    "2.When does the code in a function run: when it's specified or when it's called?\n",
    "when its calles"
   ]
  },
  {
   "cell_type": "code",
   "execution_count": null,
   "id": "3cb83d6f",
   "metadata": {},
   "outputs": [],
   "source": [
    "3.What statement creates a function?\n",
    "def"
   ]
  },
  {
   "cell_type": "code",
   "execution_count": null,
   "id": "642f35cd",
   "metadata": {},
   "outputs": [],
   "source": [
    "4.What is the difference between a function and a function call?\n",
    "function it is set of code and fucntion call is nothing but when we want to calculate any numbers we call the function."
   ]
  },
  {
   "cell_type": "code",
   "execution_count": null,
   "id": "f892e17c",
   "metadata": {},
   "outputs": [],
   "source": [
    "5.How many global scopes are there in a Python program? How many local scopes?\n",
    "one global Python scope per program execution\n",
    "global scope, local scope, enclosed scope, and built-in scope."
   ]
  },
  {
   "cell_type": "code",
   "execution_count": null,
   "id": "57ab0075",
   "metadata": {},
   "outputs": [],
   "source": [
    "6. What happens to variables in a local scope when the function call returns?\n",
    "the local variables are destroyed"
   ]
  },
  {
   "cell_type": "code",
   "execution_count": null,
   "id": "e9db1702",
   "metadata": {},
   "outputs": [],
   "source": [
    "7. What is the concept of a return value? Is it possible to have a return value in an expression?\n",
    "return value returns the value from function, we cannot have a return value in expression"
   ]
  },
  {
   "cell_type": "code",
   "execution_count": null,
   "id": "6b2bf4eb",
   "metadata": {},
   "outputs": [],
   "source": [
    "8. If a function does not have a return statement, what is the return value of a call to that function?\n",
    "it will not return anything"
   ]
  },
  {
   "cell_type": "code",
   "execution_count": null,
   "id": "9bb09a9b",
   "metadata": {},
   "outputs": [],
   "source": [
    "9. How do you make a function variable refer to the global variable?\n",
    "use the keyword as global"
   ]
  },
  {
   "cell_type": "code",
   "execution_count": null,
   "id": "2ae0f4ce",
   "metadata": {},
   "outputs": [],
   "source": [
    "10. What is the data type of None?\n",
    "None means blank data"
   ]
  },
  {
   "cell_type": "code",
   "execution_count": 1,
   "id": "79158690",
   "metadata": {},
   "outputs": [],
   "source": [
    "11. What does the sentence import areallyourpetsnamederic do?\n",
    "it will import all the modules in the name of areallyourpetsnamederic"
   ]
  },
  {
   "cell_type": "code",
   "execution_count": 2,
   "id": "e390e937",
   "metadata": {},
   "outputs": [],
   "source": [
    "12. If you had a bacon() feature in a spam module, what would you call it after importing spam?\n",
    "spam.bacon()"
   ]
  },
  {
   "cell_type": "code",
   "execution_count": null,
   "id": "61d49cda",
   "metadata": {},
   "outputs": [],
   "source": [
    "13. What can you do to save a programme from crashing if it encounters an error?\n",
    "ctrl + c"
   ]
  },
  {
   "cell_type": "code",
   "execution_count": null,
   "id": "786b34f0",
   "metadata": {},
   "outputs": [],
   "source": [
    "14. What is the purpose of the try clause? What is the purpose of the except clause?\n",
    "try clause will check the statement if any error there or not if error found it will go to except clause and run the statement \n",
    "in except clause"
   ]
  },
  {
   "cell_type": "code",
   "execution_count": null,
   "id": "61e7d0fb",
   "metadata": {},
   "outputs": [],
   "source": []
  },
  {
   "cell_type": "code",
   "execution_count": null,
   "id": "95f0e6b6",
   "metadata": {},
   "outputs": [],
   "source": []
  },
  {
   "cell_type": "code",
   "execution_count": null,
   "id": "fb226086",
   "metadata": {},
   "outputs": [],
   "source": []
  },
  {
   "cell_type": "code",
   "execution_count": null,
   "id": "cf6f4dd1",
   "metadata": {},
   "outputs": [],
   "source": []
  },
  {
   "cell_type": "code",
   "execution_count": null,
   "id": "6d6e2780",
   "metadata": {},
   "outputs": [],
   "source": []
  },
  {
   "cell_type": "code",
   "execution_count": null,
   "id": "c6bbf510",
   "metadata": {},
   "outputs": [],
   "source": []
  },
  {
   "cell_type": "code",
   "execution_count": null,
   "id": "5a39add6",
   "metadata": {},
   "outputs": [],
   "source": []
  },
  {
   "cell_type": "code",
   "execution_count": null,
   "id": "7b999fb8",
   "metadata": {},
   "outputs": [],
   "source": []
  }
 ],
 "metadata": {
  "kernelspec": {
   "display_name": "Python 3 (ipykernel)",
   "language": "python",
   "name": "python3"
  },
  "language_info": {
   "codemirror_mode": {
    "name": "ipython",
    "version": 3
   },
   "file_extension": ".py",
   "mimetype": "text/x-python",
   "name": "python",
   "nbconvert_exporter": "python",
   "pygments_lexer": "ipython3",
   "version": "3.9.7"
  }
 },
 "nbformat": 4,
 "nbformat_minor": 5
}
