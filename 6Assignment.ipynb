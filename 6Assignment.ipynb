{
 "cells": [
  {
   "cell_type": "code",
   "execution_count": null,
   "id": "5fc222b1",
   "metadata": {},
   "outputs": [],
   "source": [
    "1. What are escape characters, and how do you use them?\n",
    "\\\" blackslash"
   ]
  },
  {
   "cell_type": "code",
   "execution_count": null,
   "id": "cf7fe6f4",
   "metadata": {},
   "outputs": [],
   "source": [
    "2. What do the escape characters n and t stand for?\n",
    "n -> new line\n",
    "t -> tab"
   ]
  },
  {
   "cell_type": "code",
   "execution_count": null,
   "id": "1fe23bb6",
   "metadata": {},
   "outputs": [],
   "source": [
    "3. What is the way to include backslash characters in a string?\n",
    "print(\"I love \\tpython\")"
   ]
  },
  {
   "cell_type": "code",
   "execution_count": null,
   "id": "cc9b6665",
   "metadata": {},
   "outputs": [],
   "source": [
    "4. The string \"Howl's Moving Castle\" is a correct value. \n",
    "Why isnt the single quote character in the word Howl's not escaped a problem?\n",
    "we have used a double quotes"
   ]
  },
  {
   "cell_type": "code",
   "execution_count": 9,
   "id": "b9b0b5bd",
   "metadata": {},
   "outputs": [
    {
     "name": "stdout",
     "output_type": "stream",
     "text": [
      "Object `character` not found.\n",
      "I love         python\n"
     ]
    }
   ],
   "source": [
    "5. How do you write a string of newlines if you dont want to use the n character?\n",
    "print('I love \\\n",
    "        python')"
   ]
  },
  {
   "cell_type": "markdown",
   "id": "fa4caadf",
   "metadata": {},
   "source": [
    "6. What are the values of the given expressions?"
   ]
  },
  {
   "cell_type": "code",
   "execution_count": null,
   "id": "f98eca0d",
   "metadata": {},
   "outputs": [],
   "source": [
    "'Hello, world!'[1]--> e\n",
    "'Hello, world!'[0:5]-->Hello\n",
    "'Hello, world!'[:5]-->, world!\n",
    "'Hello, world!'[3:]-->lo, world!\n"
   ]
  },
  {
   "cell_type": "markdown",
   "id": "f1b97b4e",
   "metadata": {},
   "source": [
    "7. What are the values of the following expressions?"
   ]
  },
  {
   "cell_type": "code",
   "execution_count": null,
   "id": "0b74241d",
   "metadata": {},
   "outputs": [],
   "source": [
    "'Hello'.upper()-->HELLO\n",
    "'Hello'.upper().isupper() True\n",
    "'Hello'.upper().lower() hello\n"
   ]
  },
  {
   "cell_type": "markdown",
   "id": "f438487b",
   "metadata": {},
   "source": [
    "8. What are the values of the following expressions?"
   ]
  },
  {
   "cell_type": "code",
   "execution_count": 12,
   "id": "1ecfad46",
   "metadata": {},
   "outputs": [
    {
     "data": {
      "text/plain": [
       "['Remember,', 'remember,', 'the', 'fifth', 'of', 'July.']"
      ]
     },
     "execution_count": 12,
     "metadata": {},
     "output_type": "execute_result"
    }
   ],
   "source": [
    "'Remember, remember, the fifth of July.'.split()"
   ]
  },
  {
   "cell_type": "code",
   "execution_count": 13,
   "id": "1a09bfb9",
   "metadata": {},
   "outputs": [
    {
     "data": {
      "text/plain": [
       "'There-can-only-one.'"
      ]
     },
     "execution_count": 13,
     "metadata": {},
     "output_type": "execute_result"
    }
   ],
   "source": [
    "'-'.join('There can only one.'.split())"
   ]
  },
  {
   "cell_type": "code",
   "execution_count": null,
   "id": "39691526",
   "metadata": {},
   "outputs": [],
   "source": [
    "9. What are the methods for right-justifying, left-justifying, and centering a string?\n",
    "rjust(),center(),ljust()"
   ]
  },
  {
   "cell_type": "code",
   "execution_count": null,
   "id": "cee4927f",
   "metadata": {},
   "outputs": [],
   "source": [
    "10. What is the best way to remove whitespace characters from the start or end?\n",
    "strip()"
   ]
  },
  {
   "cell_type": "code",
   "execution_count": null,
   "id": "442f49f1",
   "metadata": {},
   "outputs": [],
   "source": []
  },
  {
   "cell_type": "code",
   "execution_count": null,
   "id": "8879bc97",
   "metadata": {},
   "outputs": [],
   "source": []
  },
  {
   "cell_type": "code",
   "execution_count": null,
   "id": "996c29dd",
   "metadata": {},
   "outputs": [],
   "source": []
  },
  {
   "cell_type": "code",
   "execution_count": null,
   "id": "d938d0c5",
   "metadata": {},
   "outputs": [],
   "source": []
  },
  {
   "cell_type": "code",
   "execution_count": null,
   "id": "00741207",
   "metadata": {},
   "outputs": [],
   "source": []
  }
 ],
 "metadata": {
  "kernelspec": {
   "display_name": "Python 3 (ipykernel)",
   "language": "python",
   "name": "python3"
  },
  "language_info": {
   "codemirror_mode": {
    "name": "ipython",
    "version": 3
   },
   "file_extension": ".py",
   "mimetype": "text/x-python",
   "name": "python",
   "nbconvert_exporter": "python",
   "pygments_lexer": "ipython3",
   "version": "3.9.7"
  }
 },
 "nbformat": 4,
 "nbformat_minor": 5
}
